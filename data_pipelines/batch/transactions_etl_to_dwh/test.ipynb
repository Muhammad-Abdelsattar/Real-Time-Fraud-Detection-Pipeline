{
 "cells": [
  {
   "cell_type": "code",
   "execution_count": null,
   "id": "89a4056d",
   "metadata": {},
   "outputs": [],
   "source": [
    "from google.cloud import storage\n",
    "\n",
    "client = storage.Client()"
   ]
  },
  {
   "cell_type": "code",
   "execution_count": null,
   "id": "d468c1e8",
   "metadata": {},
   "outputs": [],
   "source": [
    "fraud_detection_123/raw_processed_transactions/final/year=2025/month=07/day=16"
   ]
  },
  {
   "cell_type": "code",
   "execution_count": 2,
   "id": "389f775a",
   "metadata": {},
   "outputs": [],
   "source": [
    "bucket_name = \"fraud_detection_123\"\n",
    "prefix = \"raw_processed_transactions/final\"  # include trailing slash\n",
    "blobs = client.list_blobs(bucket_name, prefix=prefix)"
   ]
  },
  {
   "cell_type": "code",
   "execution_count": 4,
   "id": "c28a9397",
   "metadata": {},
   "outputs": [],
   "source": [
    "import os\n",
    "\n",
    "def download_directory(bucket_name, prefix, local_dest):\n",
    "    client = storage.Client()\n",
    "    blobs = client.list_blobs(bucket_name, prefix=prefix)\n",
    "\n",
    "    for blob in blobs:\n",
    "        # Skip any “directory placeholder” blobs\n",
    "        if blob.name.endswith(\"/\"):\n",
    "            continue\n",
    "\n",
    "        # Compute path relative to the prefix\n",
    "        rel_path = os.path.relpath(blob.name, prefix)\n",
    "        local_path = os.path.join(local_dest, rel_path)\n",
    "\n",
    "        # Ensure local folder exists\n",
    "        os.makedirs(os.path.dirname(local_path), exist_ok=True)\n",
    "\n",
    "        # Download blob to local file\n",
    "        blob.download_to_filename(local_path)\n",
    "        print(f\"Downloaded {blob.name} to {local_path}\")"
   ]
  },
  {
   "cell_type": "code",
   "execution_count": null,
   "id": "8849af1e",
   "metadata": {},
   "outputs": [],
   "source": [
    "download_directory(\n",
    "    bucket_name=\"your-bucket\",\n",
    "    prefix=\"your-folder/\",\n",
    "    local_dest=\"./downloads/your-folder\"\n",
    ")"
   ]
  },
  {
   "cell_type": "code",
   "execution_count": 7,
   "id": "ad60dcfb",
   "metadata": {},
   "outputs": [],
   "source": [
    "from pathlib import Path\n",
    "bucket_name = 'fraud_detection_123'\n",
    "prefix = 'raw_processed_transactions/final/'\n",
    "dl_dir = 'test_data/'\n",
    "\n",
    "storage_client = storage.Client()\n",
    "bucket = storage_client.get_bucket(bucket_or_name=bucket_name)\n",
    "blobs = bucket.list_blobs(prefix=prefix)  # Get list of files\n",
    "for blob in blobs:\n",
    "    if blob.name.endswith(\"/\"):\n",
    "        continue\n",
    "    file_split = blob.name.split(\"/\")\n",
    "    directory = \"/\".join(file_split[0:-1])\n",
    "    Path(directory).mkdir(parents=True, exist_ok=True)\n",
    "    blob.download_to_filename(blob.name) "
   ]
  },
  {
   "cell_type": "code",
   "execution_count": null,
   "id": "444e45b1",
   "metadata": {},
   "outputs": [],
   "source": []
  }
 ],
 "metadata": {
  "kernelspec": {
   "display_name": "cloudspace",
   "language": "python",
   "name": "python3"
  },
  "language_info": {
   "codemirror_mode": {
    "name": "ipython",
    "version": 3
   },
   "file_extension": ".py",
   "mimetype": "text/x-python",
   "name": "python",
   "nbconvert_exporter": "python",
   "pygments_lexer": "ipython3",
   "version": "3.10.10"
  }
 },
 "nbformat": 4,
 "nbformat_minor": 5
}
